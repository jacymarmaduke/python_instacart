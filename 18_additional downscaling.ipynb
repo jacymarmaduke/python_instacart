{
 "cells": [
  {
   "cell_type": "markdown",
   "id": "a48fa589",
   "metadata": {},
   "source": [
    "# Contents List\n",
    "\n",
    "01. Import libraries and data\n",
    "02. View dataframe types and memory usage\n",
    "03. Run downcasting loop\n",
    "04. View memory usage again\n",
    "05. Drop unneeded columns"
   ]
  },
  {
   "cell_type": "code",
   "execution_count": 1,
   "id": "ff360d1c",
   "metadata": {},
   "outputs": [],
   "source": [
    "# import libraries\n",
    "import pandas as pd\n",
    "import numpy as np\n",
    "import os"
   ]
  },
  {
   "cell_type": "code",
   "execution_count": 2,
   "id": "774e3226",
   "metadata": {},
   "outputs": [],
   "source": [
    "# create shortcut for data imports\n",
    "path = r'C:\\Users\\jacym\\Desktop\\Career Foundry projects\\04-2023 Instacart basket analysis'"
   ]
  },
  {
   "cell_type": "code",
   "execution_count": 3,
   "id": "207d1c09",
   "metadata": {},
   "outputs": [],
   "source": [
    "# import merged data\n",
    "df = pd.read_pickle(os.path.join(path, '02 Data','Prepared data', 'orders_products_merged_grouped.pkl'))"
   ]
  },
  {
   "cell_type": "code",
   "execution_count": 5,
   "id": "23a17103",
   "metadata": {},
   "outputs": [
    {
     "name": "stdout",
     "output_type": "stream",
     "text": [
      "<class 'pandas.core.frame.DataFrame'>\n",
      "Int64Index: 32404859 entries, 0 to 32404858\n",
      "Data columns (total 24 columns):\n",
      " #   Column                  Dtype   \n",
      "---  ------                  -----   \n",
      " 0   order_id                int64   \n",
      " 1   user_id                 int64   \n",
      " 2   order_number            int64   \n",
      " 3   order_day_of_week       int64   \n",
      " 4   order_hour_of_day       int64   \n",
      " 5   days_since_prior_order  float64 \n",
      " 6   product_id              int64   \n",
      " 7   add_to_cart_order       int64   \n",
      " 8   reordered               int64   \n",
      " 9   product_name            object  \n",
      " 10  aisle_id                int64   \n",
      " 11  department_id           int64   \n",
      " 12  prices                  float64 \n",
      " 13  _merge                  category\n",
      " 14  price_range_loc         object  \n",
      " 15  busiest_day             object  \n",
      " 16  busiest_days            object  \n",
      " 17  busiest_period_of_day   object  \n",
      " 18  max_order               int64   \n",
      " 19  loyalty_flag            object  \n",
      " 20  avg_price               float64 \n",
      " 21  spending_flag           object  \n",
      " 22  order_frequency         float64 \n",
      " 23  frequency_flag          object  \n",
      "dtypes: category(1), float64(4), int64(11), object(8)\n",
      "memory usage: 21.3 GB\n"
     ]
    }
   ],
   "source": [
    "# view memory usage\n",
    "df.info(memory_usage = 'deep')"
   ]
  },
  {
   "cell_type": "code",
   "execution_count": 8,
   "id": "09f7bcc8",
   "metadata": {},
   "outputs": [],
   "source": [
    "# downcasting loop\n",
    "for column in df:\n",
    " if df[column].dtype == 'float64':\n",
    "     df[column]=pd.to_numeric(df[column], downcast='float')\n",
    " if df[column].dtype == 'int64':\n",
    "     df[column]=pd.to_numeric(df[column], downcast='integer')\n"
   ]
  },
  {
   "cell_type": "code",
   "execution_count": 9,
   "id": "6c83a9a1",
   "metadata": {},
   "outputs": [
    {
     "name": "stdout",
     "output_type": "stream",
     "text": [
      "<class 'pandas.core.frame.DataFrame'>\n",
      "Int64Index: 32404859 entries, 0 to 32404858\n",
      "Data columns (total 24 columns):\n",
      " #   Column                  Dtype   \n",
      "---  ------                  -----   \n",
      " 0   order_id                int32   \n",
      " 1   user_id                 int32   \n",
      " 2   order_number            int8    \n",
      " 3   order_day_of_week       int8    \n",
      " 4   order_hour_of_day       int8    \n",
      " 5   days_since_prior_order  float32 \n",
      " 6   product_id              int32   \n",
      " 7   add_to_cart_order       int16   \n",
      " 8   reordered               int8    \n",
      " 9   product_name            object  \n",
      " 10  aisle_id                int16   \n",
      " 11  department_id           int8    \n",
      " 12  prices                  float32 \n",
      " 13  _merge                  category\n",
      " 14  price_range_loc         object  \n",
      " 15  busiest_day             object  \n",
      " 16  busiest_days            object  \n",
      " 17  busiest_period_of_day   object  \n",
      " 18  max_order               int8    \n",
      " 19  loyalty_flag            object  \n",
      " 20  avg_price               float32 \n",
      " 21  spending_flag           object  \n",
      " 22  order_frequency         float32 \n",
      " 23  frequency_flag          object  \n",
      "dtypes: category(1), float32(4), int16(2), int32(3), int8(6), object(8)\n",
      "memory usage: 18.8 GB\n"
     ]
    }
   ],
   "source": [
    "# view memory usage again\n",
    "df.info(memory_usage = 'deep')"
   ]
  },
  {
   "cell_type": "code",
   "execution_count": 10,
   "id": "81bd699d",
   "metadata": {},
   "outputs": [],
   "source": [
    "# drop unneeded column\n",
    "df = df.drop(columns = 'busiest_day')"
   ]
  },
  {
   "cell_type": "code",
   "execution_count": 11,
   "id": "48573a8e",
   "metadata": {},
   "outputs": [],
   "source": [
    "# change data type\n",
    "df['user_id'] = df['user_id'].astype('str')"
   ]
  },
  {
   "cell_type": "code",
   "execution_count": 12,
   "id": "0fa9a114",
   "metadata": {},
   "outputs": [],
   "source": [
    "# change data type\n",
    "df['order_id'] = df['order_id'].astype('str')"
   ]
  },
  {
   "cell_type": "code",
   "execution_count": 13,
   "id": "9719ee08",
   "metadata": {},
   "outputs": [],
   "source": [
    "# export\n",
    "df.to_pickle(os.path.join(path, '02 Data','Prepared Data', 'orders_products_merged_grouped.pkl'))"
   ]
  }
 ],
 "metadata": {
  "kernelspec": {
   "display_name": "Python 3 (ipykernel)",
   "language": "python",
   "name": "python3"
  },
  "language_info": {
   "codemirror_mode": {
    "name": "ipython",
    "version": 3
   },
   "file_extension": ".py",
   "mimetype": "text/x-python",
   "name": "python",
   "nbconvert_exporter": "python",
   "pygments_lexer": "ipython3",
   "version": "3.10.9"
  }
 },
 "nbformat": 4,
 "nbformat_minor": 5
}
