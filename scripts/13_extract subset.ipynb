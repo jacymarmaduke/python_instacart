{
 "cells": [
  {
   "cell_type": "markdown",
   "id": "c64bd671",
   "metadata": {},
   "source": [
    "# Contents List\n",
    "\n",
    "(continued from 4.10 part 1a Regions)\n",
    "04. Create exclusion flag for low-activity customers"
   ]
  },
  {
   "cell_type": "code",
   "execution_count": 1,
   "id": "27838e4b",
   "metadata": {},
   "outputs": [],
   "source": [
    "# import libraries\n",
    "import pandas as pd\n",
    "import numpy as np\n",
    "import os"
   ]
  },
  {
   "cell_type": "code",
   "execution_count": 2,
   "id": "82a411ab",
   "metadata": {},
   "outputs": [],
   "source": [
    "# create shortcut for data imports\n",
    "path = r'C:\\Users\\jacym\\Desktop\\Career Foundry projects\\04-2023 Instacart basket analysis'"
   ]
  },
  {
   "cell_type": "code",
   "execution_count": 3,
   "id": "be639124",
   "metadata": {},
   "outputs": [],
   "source": [
    "# import data\n",
    "df = pd.read_pickle(r'C:\\Users\\jacym\\Desktop\\Career Foundry projects\\04-2023 Instacart basket analysis\\02 Data\\Prepared data\\orders_customers_regions.pkl')"
   ]
  },
  {
   "cell_type": "markdown",
   "id": "95efa413",
   "metadata": {},
   "source": [
    "# 04. Create exclusion flag for low-activity customers"
   ]
  },
  {
   "cell_type": "code",
   "execution_count": 4,
   "id": "2298d13b",
   "metadata": {},
   "outputs": [],
   "source": [
    "# loc: create exclusion flag with two labels, each in separate cell\n",
    "# label 1: active\n",
    "df.loc[df['max_order'] >= 5, 'low_activity_flag'] = 'Active customer'"
   ]
  },
  {
   "cell_type": "code",
   "execution_count": 5,
   "id": "a51651cd",
   "metadata": {},
   "outputs": [],
   "source": [
    "# label 2: inactive\n",
    "df.loc[df['max_order'] < 5, 'low_activity_flag'] = 'Inactive customer'"
   ]
  },
  {
   "cell_type": "code",
   "execution_count": 6,
   "id": "f8178212",
   "metadata": {},
   "outputs": [
    {
     "data": {
      "text/html": [
       "<div>\n",
       "<style scoped>\n",
       "    .dataframe tbody tr th:only-of-type {\n",
       "        vertical-align: middle;\n",
       "    }\n",
       "\n",
       "    .dataframe tbody tr th {\n",
       "        vertical-align: top;\n",
       "    }\n",
       "\n",
       "    .dataframe thead th {\n",
       "        text-align: right;\n",
       "    }\n",
       "</style>\n",
       "<table border=\"1\" class=\"dataframe\">\n",
       "  <thead>\n",
       "    <tr style=\"text-align: right;\">\n",
       "      <th></th>\n",
       "      <th>order_id</th>\n",
       "      <th>user_id</th>\n",
       "      <th>order_number</th>\n",
       "      <th>order_day_of_week</th>\n",
       "      <th>order_hour_of_day</th>\n",
       "      <th>days_since_prior_order</th>\n",
       "      <th>product_id</th>\n",
       "      <th>add_to_cart_order</th>\n",
       "      <th>product_name</th>\n",
       "      <th>department_id</th>\n",
       "      <th>...</th>\n",
       "      <th>frequency_flag</th>\n",
       "      <th>gender</th>\n",
       "      <th>state</th>\n",
       "      <th>age</th>\n",
       "      <th>date_joined</th>\n",
       "      <th>n_dependants</th>\n",
       "      <th>fam_status</th>\n",
       "      <th>income</th>\n",
       "      <th>region</th>\n",
       "      <th>low_activity_flag</th>\n",
       "    </tr>\n",
       "  </thead>\n",
       "  <tbody>\n",
       "    <tr>\n",
       "      <th>0</th>\n",
       "      <td>2539329</td>\n",
       "      <td>1</td>\n",
       "      <td>1</td>\n",
       "      <td>2</td>\n",
       "      <td>8</td>\n",
       "      <td>NaN</td>\n",
       "      <td>196</td>\n",
       "      <td>1</td>\n",
       "      <td>Soda</td>\n",
       "      <td>7</td>\n",
       "      <td>...</td>\n",
       "      <td>Non-frequent customer</td>\n",
       "      <td>Female</td>\n",
       "      <td>Alabama</td>\n",
       "      <td>31</td>\n",
       "      <td>2/17/2019</td>\n",
       "      <td>3</td>\n",
       "      <td>married</td>\n",
       "      <td>40423</td>\n",
       "      <td>South</td>\n",
       "      <td>Active customer</td>\n",
       "    </tr>\n",
       "    <tr>\n",
       "      <th>1</th>\n",
       "      <td>2398795</td>\n",
       "      <td>1</td>\n",
       "      <td>2</td>\n",
       "      <td>3</td>\n",
       "      <td>7</td>\n",
       "      <td>15.0</td>\n",
       "      <td>196</td>\n",
       "      <td>1</td>\n",
       "      <td>Soda</td>\n",
       "      <td>7</td>\n",
       "      <td>...</td>\n",
       "      <td>Non-frequent customer</td>\n",
       "      <td>Female</td>\n",
       "      <td>Alabama</td>\n",
       "      <td>31</td>\n",
       "      <td>2/17/2019</td>\n",
       "      <td>3</td>\n",
       "      <td>married</td>\n",
       "      <td>40423</td>\n",
       "      <td>South</td>\n",
       "      <td>Active customer</td>\n",
       "    </tr>\n",
       "    <tr>\n",
       "      <th>2</th>\n",
       "      <td>473747</td>\n",
       "      <td>1</td>\n",
       "      <td>3</td>\n",
       "      <td>3</td>\n",
       "      <td>12</td>\n",
       "      <td>21.0</td>\n",
       "      <td>196</td>\n",
       "      <td>1</td>\n",
       "      <td>Soda</td>\n",
       "      <td>7</td>\n",
       "      <td>...</td>\n",
       "      <td>Non-frequent customer</td>\n",
       "      <td>Female</td>\n",
       "      <td>Alabama</td>\n",
       "      <td>31</td>\n",
       "      <td>2/17/2019</td>\n",
       "      <td>3</td>\n",
       "      <td>married</td>\n",
       "      <td>40423</td>\n",
       "      <td>South</td>\n",
       "      <td>Active customer</td>\n",
       "    </tr>\n",
       "    <tr>\n",
       "      <th>3</th>\n",
       "      <td>2254736</td>\n",
       "      <td>1</td>\n",
       "      <td>4</td>\n",
       "      <td>4</td>\n",
       "      <td>7</td>\n",
       "      <td>29.0</td>\n",
       "      <td>196</td>\n",
       "      <td>1</td>\n",
       "      <td>Soda</td>\n",
       "      <td>7</td>\n",
       "      <td>...</td>\n",
       "      <td>Non-frequent customer</td>\n",
       "      <td>Female</td>\n",
       "      <td>Alabama</td>\n",
       "      <td>31</td>\n",
       "      <td>2/17/2019</td>\n",
       "      <td>3</td>\n",
       "      <td>married</td>\n",
       "      <td>40423</td>\n",
       "      <td>South</td>\n",
       "      <td>Active customer</td>\n",
       "    </tr>\n",
       "    <tr>\n",
       "      <th>4</th>\n",
       "      <td>431534</td>\n",
       "      <td>1</td>\n",
       "      <td>5</td>\n",
       "      <td>4</td>\n",
       "      <td>15</td>\n",
       "      <td>28.0</td>\n",
       "      <td>196</td>\n",
       "      <td>1</td>\n",
       "      <td>Soda</td>\n",
       "      <td>7</td>\n",
       "      <td>...</td>\n",
       "      <td>Non-frequent customer</td>\n",
       "      <td>Female</td>\n",
       "      <td>Alabama</td>\n",
       "      <td>31</td>\n",
       "      <td>2/17/2019</td>\n",
       "      <td>3</td>\n",
       "      <td>married</td>\n",
       "      <td>40423</td>\n",
       "      <td>South</td>\n",
       "      <td>Active customer</td>\n",
       "    </tr>\n",
       "  </tbody>\n",
       "</table>\n",
       "<p>5 rows × 27 columns</p>\n",
       "</div>"
      ],
      "text/plain": [
       "  order_id user_id  order_number  order_day_of_week  order_hour_of_day  \\\n",
       "0  2539329       1             1                  2                  8   \n",
       "1  2398795       1             2                  3                  7   \n",
       "2   473747       1             3                  3                 12   \n",
       "3  2254736       1             4                  4                  7   \n",
       "4   431534       1             5                  4                 15   \n",
       "\n",
       "   days_since_prior_order  product_id  add_to_cart_order product_name  \\\n",
       "0                     NaN         196                  1         Soda   \n",
       "1                    15.0         196                  1         Soda   \n",
       "2                    21.0         196                  1         Soda   \n",
       "3                    29.0         196                  1         Soda   \n",
       "4                    28.0         196                  1         Soda   \n",
       "\n",
       "   department_id  ...         frequency_flag  gender    state age  \\\n",
       "0              7  ...  Non-frequent customer  Female  Alabama  31   \n",
       "1              7  ...  Non-frequent customer  Female  Alabama  31   \n",
       "2              7  ...  Non-frequent customer  Female  Alabama  31   \n",
       "3              7  ...  Non-frequent customer  Female  Alabama  31   \n",
       "4              7  ...  Non-frequent customer  Female  Alabama  31   \n",
       "\n",
       "   date_joined n_dependants  fam_status income region low_activity_flag  \n",
       "0    2/17/2019            3     married  40423  South   Active customer  \n",
       "1    2/17/2019            3     married  40423  South   Active customer  \n",
       "2    2/17/2019            3     married  40423  South   Active customer  \n",
       "3    2/17/2019            3     married  40423  South   Active customer  \n",
       "4    2/17/2019            3     married  40423  South   Active customer  \n",
       "\n",
       "[5 rows x 27 columns]"
      ]
     },
     "execution_count": 6,
     "metadata": {},
     "output_type": "execute_result"
    }
   ],
   "source": [
    "# check\n",
    "df.head()"
   ]
  },
  {
   "cell_type": "code",
   "execution_count": 7,
   "id": "a734db12",
   "metadata": {},
   "outputs": [
    {
     "data": {
      "text/plain": [
       "Active customer      30964564\n",
       "Inactive customer     1440295\n",
       "Name: low_activity_flag, dtype: int64"
      ]
     },
     "execution_count": 7,
     "metadata": {},
     "output_type": "execute_result"
    }
   ],
   "source": [
    "# check frequency on new exclusion flag column\n",
    "df['low_activity_flag'].value_counts()"
   ]
  },
  {
   "cell_type": "code",
   "execution_count": 8,
   "id": "b34c2606",
   "metadata": {},
   "outputs": [],
   "source": [
    "# create new version of df dropping all rows of inactive customers\n",
    "df_active = df[df.low_activity_flag != 'Inactive customer']"
   ]
  },
  {
   "cell_type": "code",
   "execution_count": 9,
   "id": "60996763",
   "metadata": {},
   "outputs": [
    {
     "data": {
      "text/plain": [
       "(30964564, 27)"
      ]
     },
     "execution_count": 9,
     "metadata": {},
     "output_type": "execute_result"
    }
   ],
   "source": [
    "# rows in active df match active customer count, so the drop was successful\n",
    "df_active.shape"
   ]
  },
  {
   "cell_type": "code",
   "execution_count": 10,
   "id": "268e5820",
   "metadata": {},
   "outputs": [],
   "source": [
    "# export active df\n",
    "df_active.to_pickle(os.path.join(path, '02 Data','Prepared Data', 'orders_customers_merged_active.pkl'))"
   ]
  }
 ],
 "metadata": {
  "kernelspec": {
   "display_name": "Python 3 (ipykernel)",
   "language": "python",
   "name": "python3"
  },
  "language_info": {
   "codemirror_mode": {
    "name": "ipython",
    "version": 3
   },
   "file_extension": ".py",
   "mimetype": "text/x-python",
   "name": "python",
   "nbconvert_exporter": "python",
   "pygments_lexer": "ipython3",
   "version": "3.10.9"
  }
 },
 "nbformat": 4,
 "nbformat_minor": 5
}
