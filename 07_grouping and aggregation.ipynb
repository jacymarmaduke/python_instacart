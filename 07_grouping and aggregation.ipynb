{
 "cells": [
  {
   "cell_type": "markdown",
   "id": "4f2346bb",
   "metadata": {},
   "source": [
    "# Contents List\n",
    "\n",
    "01. Import libraries and data\n",
    "02. Aggregate mean orders by department_id\n",
    "03. Analyze results\n",
    "04. Use transform and loc to create loyalty flag\n",
    "05. Check stats for each loyalty group\n",
    "06. Create spending flag\n",
    "07. Create order frequency flag\n",
    "08. Export data"
   ]
  },
  {
   "cell_type": "markdown",
   "id": "421fd60b",
   "metadata": {},
   "source": [
    "# 01. Import libraries and data"
   ]
  },
  {
   "cell_type": "code",
   "execution_count": 1,
   "id": "ddc719e7",
   "metadata": {},
   "outputs": [],
   "source": [
    "# import libraries\n",
    "import pandas as pd\n",
    "import numpy as np\n",
    "import os"
   ]
  },
  {
   "cell_type": "code",
   "execution_count": 2,
   "id": "0bd93290",
   "metadata": {},
   "outputs": [],
   "source": [
    "# create shortcut for data imports\n",
    "path = r'C:\\Users\\jacym\\Desktop\\Career Foundry projects\\04-2023 Instacart basket analysis'"
   ]
  },
  {
   "cell_type": "code",
   "execution_count": 3,
   "id": "ec4140c4",
   "metadata": {},
   "outputs": [],
   "source": [
    "# import merged data\n",
    "ords_prods_merge = pd.read_pickle(os.path.join(path, '02 Data','Prepared data', 'orders_products_merged_expanded.pkl'))"
   ]
  },
  {
   "cell_type": "code",
   "execution_count": null,
   "id": "b7b63f3a",
   "metadata": {},
   "outputs": [],
   "source": [
    "# check imported data\n",
    "ords_prods_merge.shape"
   ]
  },
  {
   "cell_type": "code",
   "execution_count": 4,
   "id": "edc0fb07",
   "metadata": {},
   "outputs": [
    {
     "data": {
      "text/html": [
       "<div>\n",
       "<style scoped>\n",
       "    .dataframe tbody tr th:only-of-type {\n",
       "        vertical-align: middle;\n",
       "    }\n",
       "\n",
       "    .dataframe tbody tr th {\n",
       "        vertical-align: top;\n",
       "    }\n",
       "\n",
       "    .dataframe thead th {\n",
       "        text-align: right;\n",
       "    }\n",
       "</style>\n",
       "<table border=\"1\" class=\"dataframe\">\n",
       "  <thead>\n",
       "    <tr style=\"text-align: right;\">\n",
       "      <th></th>\n",
       "      <th>order_id</th>\n",
       "      <th>user_id</th>\n",
       "      <th>order_number</th>\n",
       "      <th>order_day_of_week</th>\n",
       "      <th>order_hour_of_day</th>\n",
       "      <th>days_since_prior_order</th>\n",
       "      <th>product_id</th>\n",
       "      <th>add_to_cart_order</th>\n",
       "      <th>reordered</th>\n",
       "      <th>product_name</th>\n",
       "      <th>aisle_id</th>\n",
       "      <th>department_id</th>\n",
       "      <th>prices</th>\n",
       "      <th>_merge</th>\n",
       "      <th>price_range_loc</th>\n",
       "      <th>busiest_day</th>\n",
       "      <th>busiest_days</th>\n",
       "      <th>busiest_period_of_day</th>\n",
       "    </tr>\n",
       "  </thead>\n",
       "  <tbody>\n",
       "    <tr>\n",
       "      <th>0</th>\n",
       "      <td>2539329</td>\n",
       "      <td>1</td>\n",
       "      <td>1</td>\n",
       "      <td>2</td>\n",
       "      <td>8</td>\n",
       "      <td>NaN</td>\n",
       "      <td>196</td>\n",
       "      <td>1</td>\n",
       "      <td>0</td>\n",
       "      <td>Soda</td>\n",
       "      <td>77</td>\n",
       "      <td>7</td>\n",
       "      <td>9.0</td>\n",
       "      <td>both</td>\n",
       "      <td>Mid-range product</td>\n",
       "      <td>Regularly busy</td>\n",
       "      <td>Regular day</td>\n",
       "      <td>Average orders</td>\n",
       "    </tr>\n",
       "    <tr>\n",
       "      <th>1</th>\n",
       "      <td>2398795</td>\n",
       "      <td>1</td>\n",
       "      <td>2</td>\n",
       "      <td>3</td>\n",
       "      <td>7</td>\n",
       "      <td>15.0</td>\n",
       "      <td>196</td>\n",
       "      <td>1</td>\n",
       "      <td>1</td>\n",
       "      <td>Soda</td>\n",
       "      <td>77</td>\n",
       "      <td>7</td>\n",
       "      <td>9.0</td>\n",
       "      <td>both</td>\n",
       "      <td>Mid-range product</td>\n",
       "      <td>Regularly busy</td>\n",
       "      <td>Slow day</td>\n",
       "      <td>Average orders</td>\n",
       "    </tr>\n",
       "    <tr>\n",
       "      <th>2</th>\n",
       "      <td>473747</td>\n",
       "      <td>1</td>\n",
       "      <td>3</td>\n",
       "      <td>3</td>\n",
       "      <td>12</td>\n",
       "      <td>21.0</td>\n",
       "      <td>196</td>\n",
       "      <td>1</td>\n",
       "      <td>1</td>\n",
       "      <td>Soda</td>\n",
       "      <td>77</td>\n",
       "      <td>7</td>\n",
       "      <td>9.0</td>\n",
       "      <td>both</td>\n",
       "      <td>Mid-range product</td>\n",
       "      <td>Regularly busy</td>\n",
       "      <td>Slow day</td>\n",
       "      <td>Most orders</td>\n",
       "    </tr>\n",
       "    <tr>\n",
       "      <th>3</th>\n",
       "      <td>2254736</td>\n",
       "      <td>1</td>\n",
       "      <td>4</td>\n",
       "      <td>4</td>\n",
       "      <td>7</td>\n",
       "      <td>29.0</td>\n",
       "      <td>196</td>\n",
       "      <td>1</td>\n",
       "      <td>1</td>\n",
       "      <td>Soda</td>\n",
       "      <td>77</td>\n",
       "      <td>7</td>\n",
       "      <td>9.0</td>\n",
       "      <td>both</td>\n",
       "      <td>Mid-range product</td>\n",
       "      <td>Least busy</td>\n",
       "      <td>Slow day</td>\n",
       "      <td>Average orders</td>\n",
       "    </tr>\n",
       "    <tr>\n",
       "      <th>4</th>\n",
       "      <td>431534</td>\n",
       "      <td>1</td>\n",
       "      <td>5</td>\n",
       "      <td>4</td>\n",
       "      <td>15</td>\n",
       "      <td>28.0</td>\n",
       "      <td>196</td>\n",
       "      <td>1</td>\n",
       "      <td>1</td>\n",
       "      <td>Soda</td>\n",
       "      <td>77</td>\n",
       "      <td>7</td>\n",
       "      <td>9.0</td>\n",
       "      <td>both</td>\n",
       "      <td>Mid-range product</td>\n",
       "      <td>Least busy</td>\n",
       "      <td>Slow day</td>\n",
       "      <td>Most orders</td>\n",
       "    </tr>\n",
       "  </tbody>\n",
       "</table>\n",
       "</div>"
      ],
      "text/plain": [
       "   order_id  user_id  order_number  order_day_of_week  order_hour_of_day  \\\n",
       "0   2539329        1             1                  2                  8   \n",
       "1   2398795        1             2                  3                  7   \n",
       "2    473747        1             3                  3                 12   \n",
       "3   2254736        1             4                  4                  7   \n",
       "4    431534        1             5                  4                 15   \n",
       "\n",
       "   days_since_prior_order  product_id  add_to_cart_order  reordered  \\\n",
       "0                     NaN         196                  1          0   \n",
       "1                    15.0         196                  1          1   \n",
       "2                    21.0         196                  1          1   \n",
       "3                    29.0         196                  1          1   \n",
       "4                    28.0         196                  1          1   \n",
       "\n",
       "  product_name  aisle_id  department_id  prices _merge    price_range_loc  \\\n",
       "0         Soda        77              7     9.0   both  Mid-range product   \n",
       "1         Soda        77              7     9.0   both  Mid-range product   \n",
       "2         Soda        77              7     9.0   both  Mid-range product   \n",
       "3         Soda        77              7     9.0   both  Mid-range product   \n",
       "4         Soda        77              7     9.0   both  Mid-range product   \n",
       "\n",
       "      busiest_day busiest_days busiest_period_of_day  \n",
       "0  Regularly busy  Regular day        Average orders  \n",
       "1  Regularly busy     Slow day        Average orders  \n",
       "2  Regularly busy     Slow day           Most orders  \n",
       "3      Least busy     Slow day        Average orders  \n",
       "4      Least busy     Slow day           Most orders  "
      ]
     },
     "execution_count": 4,
     "metadata": {},
     "output_type": "execute_result"
    }
   ],
   "source": [
    "ords_prods_merge.head()"
   ]
  },
  {
   "cell_type": "code",
   "execution_count": null,
   "id": "316d2504",
   "metadata": {},
   "outputs": [],
   "source": [
    "# import wrangled departments list \n",
    "depts_list = pd.read_csv(os.path.join(path, '02 Data', 'Prepared data', 'departments_wrangled.csv'), index_col = 0)"
   ]
  },
  {
   "cell_type": "markdown",
   "id": "ee1ee0de",
   "metadata": {},
   "source": [
    "Note to self: I had a lot of problems with the above task. I kept getting a double index column with different numbers in each bc of zero counting, or just one index with frozen labeled as zero instead of 1. I fixed this by re-exporting the depts wrangled file *without* the index=False clause that I had before, then importing it here with index_col=0 (index_col=False did not work!)"
   ]
  },
  {
   "cell_type": "code",
   "execution_count": null,
   "id": "072958b2",
   "metadata": {},
   "outputs": [],
   "source": [
    "depts_list"
   ]
  },
  {
   "cell_type": "code",
   "execution_count": null,
   "id": "71976700",
   "metadata": {},
   "outputs": [],
   "source": [
    "data_dict = depts_list.to_dict('index')"
   ]
  },
  {
   "cell_type": "code",
   "execution_count": null,
   "id": "5cfb4d33",
   "metadata": {},
   "outputs": [],
   "source": [
    "data_dict"
   ]
  },
  {
   "cell_type": "markdown",
   "id": "8e05930f",
   "metadata": {},
   "source": [
    "# 02: Aggregate mean orders by department id"
   ]
  },
  {
   "cell_type": "code",
   "execution_count": 5,
   "id": "b7899f62",
   "metadata": {},
   "outputs": [
    {
     "data": {
      "text/plain": [
       "department_id\n",
       "1     15.457838\n",
       "2     17.277920\n",
       "3     17.170395\n",
       "4     17.811403\n",
       "5     15.215751\n",
       "6     16.439806\n",
       "7     17.225802\n",
       "8     15.340650\n",
       "9     15.895474\n",
       "10    20.197148\n",
       "11    16.170638\n",
       "12    15.887671\n",
       "13    16.583536\n",
       "14    16.773669\n",
       "15    16.165037\n",
       "16    17.665606\n",
       "17    15.694469\n",
       "18    19.310397\n",
       "19    17.177343\n",
       "20    16.473447\n",
       "21    22.902379\n",
       "Name: order_number, dtype: float64"
      ]
     },
     "execution_count": 5,
     "metadata": {},
     "output_type": "execute_result"
    }
   ],
   "source": [
    "# groupby department id, calculate mean order number for each group\n",
    "ords_prods_merge.groupby('department_id')['order_number'].mean()"
   ]
  },
  {
   "cell_type": "markdown",
   "id": "9226b1fd",
   "metadata": {},
   "source": [
    "# 03. Analyze result\n",
    "\n",
    "Observations: The results are quite different from what I got aggregating the subset of 1,000,000 rows, which suggests that data wasn't representative. That isn't surprising considering it included items in fewer than half the categories.\n",
    "Going off this aggregation, I can see the most frequently (classifiable) ordered items are in the bulk and babies departments, suggesting that many Instacart orders come from households with babies and people who like to buy in bulk. On the low end are alcohol and pets, which makes sense -- not everyone has a pet, and alcohol is probably bought less frequently than food and household products. Interestingly, frozen food is also on the low end for orders."
   ]
  },
  {
   "cell_type": "markdown",
   "id": "9c9aa6be",
   "metadata": {},
   "source": [
    "# 04. Use transform and loc to create loyalty flag"
   ]
  },
  {
   "cell_type": "code",
   "execution_count": 6,
   "id": "ac68e2c4",
   "metadata": {},
   "outputs": [],
   "source": [
    "# transform: create new column max_order, transform it with max order number for each user id\n",
    "ords_prods_merge['max_order'] = ords_prods_merge.groupby(['user_id'])['order_number'].transform(np.max)"
   ]
  },
  {
   "cell_type": "code",
   "execution_count": null,
   "id": "8cee7892",
   "metadata": {},
   "outputs": [],
   "source": [
    "# check output\n",
    "ords_prods_merge.head()"
   ]
  },
  {
   "cell_type": "code",
   "execution_count": 7,
   "id": "a270d4f3",
   "metadata": {},
   "outputs": [],
   "source": [
    "# loc: create loyalty flag column with three labels, each in separate cell\n",
    "# label 1: loyal customer\n",
    "ords_prods_merge.loc[ords_prods_merge['max_order'] > 40, 'loyalty_flag'] = 'Loyal customer'"
   ]
  },
  {
   "cell_type": "code",
   "execution_count": 8,
   "id": "62cf6398",
   "metadata": {},
   "outputs": [],
   "source": [
    "# label 2: regular customer\n",
    "ords_prods_merge.loc[(ords_prods_merge['max_order'] > 10) & (ords_prods_merge['max_order'] <= 40), 'loyalty_flag'] = 'Regular customer'"
   ]
  },
  {
   "cell_type": "code",
   "execution_count": 9,
   "id": "e52ba209",
   "metadata": {},
   "outputs": [],
   "source": [
    "# label 3: new customer\n",
    "ords_prods_merge.loc[ords_prods_merge['max_order'] <= 10, 'loyalty_flag'] = 'New customer'"
   ]
  },
  {
   "cell_type": "code",
   "execution_count": null,
   "id": "6c0bd387",
   "metadata": {},
   "outputs": [],
   "source": [
    "# check output\n",
    "ords_prods_merge.head(50)"
   ]
  },
  {
   "cell_type": "markdown",
   "id": "e07c6ca0",
   "metadata": {},
   "source": [
    "# 05. Check stats for each loyalty group"
   ]
  },
  {
   "cell_type": "code",
   "execution_count": 11,
   "id": "47d4f893",
   "metadata": {},
   "outputs": [
    {
     "data": {
      "text/html": [
       "<div>\n",
       "<style scoped>\n",
       "    .dataframe tbody tr th:only-of-type {\n",
       "        vertical-align: middle;\n",
       "    }\n",
       "\n",
       "    .dataframe tbody tr th {\n",
       "        vertical-align: top;\n",
       "    }\n",
       "\n",
       "    .dataframe thead tr th {\n",
       "        text-align: left;\n",
       "    }\n",
       "\n",
       "    .dataframe thead tr:last-of-type th {\n",
       "        text-align: right;\n",
       "    }\n",
       "</style>\n",
       "<table border=\"1\" class=\"dataframe\">\n",
       "  <thead>\n",
       "    <tr>\n",
       "      <th></th>\n",
       "      <th>user_id</th>\n",
       "    </tr>\n",
       "    <tr>\n",
       "      <th></th>\n",
       "      <th>nunique</th>\n",
       "    </tr>\n",
       "    <tr>\n",
       "      <th>loyalty_flag</th>\n",
       "      <th></th>\n",
       "    </tr>\n",
       "  </thead>\n",
       "  <tbody>\n",
       "    <tr>\n",
       "      <th>Loyal customer</th>\n",
       "      <td>17017</td>\n",
       "    </tr>\n",
       "    <tr>\n",
       "      <th>New customer</th>\n",
       "      <td>112328</td>\n",
       "    </tr>\n",
       "    <tr>\n",
       "      <th>Regular customer</th>\n",
       "      <td>76864</td>\n",
       "    </tr>\n",
       "  </tbody>\n",
       "</table>\n",
       "</div>"
      ],
      "text/plain": [
       "                 user_id\n",
       "                 nunique\n",
       "loyalty_flag            \n",
       "Loyal customer     17017\n",
       "New customer      112328\n",
       "Regular customer   76864"
      ]
     },
     "execution_count": 11,
     "metadata": {},
     "output_type": "execute_result"
    }
   ],
   "source": [
    "# groupby loyalty flag column and calculate basic price stats for each group: mean, min max\n",
    "ords_prods_merge.groupby('loyalty_flag').agg({'user_id': ['nunique']})\n"
   ]
  },
  {
   "cell_type": "code",
   "execution_count": null,
   "id": "4772e4ce",
   "metadata": {},
   "outputs": [],
   "source": [
    "# to see price range makeup for each loyalty group, groupby both loyalty flag AND price range loc, then aggregate count for each subgroup\n",
    "ords_prods_merge.groupby(['loyalty_flag', 'price_range_loc']).agg({'price_range_loc': ['count']})"
   ]
  },
  {
   "cell_type": "code",
   "execution_count": null,
   "id": "3a6fd301",
   "metadata": {},
   "outputs": [],
   "source": [
    "# loyal: 10284093 products, 1.15% high, 31.27% low, 67.57% mid\n",
    "# new: 6243990 products, 1.35% high, 31.29% low, 67.35% mid\n",
    "# regular: 15876776 products, 1.32% high, 31.25% low, 67.43% mid"
   ]
  },
  {
   "cell_type": "markdown",
   "id": "61d8bec8",
   "metadata": {},
   "source": [
    "Observations: The average item price is similar across groups, with loyal customers spending slightly less per item and new customers spending slightly more. I'm not sure if the difference is significant; would need to run an ANOVA.\n",
    "The price range results also show similarity across groups, though it appears loyal customers are less likely to splurge on high-range products and most likely to purchase mid-range products, and new customers are the most likely group to buy high-range products."
   ]
  },
  {
   "cell_type": "markdown",
   "id": "cf65b1dd",
   "metadata": {},
   "source": [
    "# 06. Create spending flag"
   ]
  },
  {
   "cell_type": "code",
   "execution_count": null,
   "id": "83e8a138",
   "metadata": {},
   "outputs": [],
   "source": [
    "# transform: create new column avg_price, fill('transform') it with avg price for each user id\n",
    "ords_prods_merge['avg_price'] = ords_prods_merge.groupby(['user_id'])['prices'].transform(np.mean)"
   ]
  },
  {
   "cell_type": "code",
   "execution_count": null,
   "id": "8570be1b",
   "metadata": {},
   "outputs": [],
   "source": [
    "# loc: create spending flag column with two labels, each in separate cell\n",
    "# label 1: low spender\n",
    "ords_prods_merge.loc[ords_prods_merge['avg_price'] < 10, 'spending_flag'] = 'Low spender'"
   ]
  },
  {
   "cell_type": "code",
   "execution_count": null,
   "id": "06eb9e4e",
   "metadata": {},
   "outputs": [],
   "source": [
    "# label 2: high spender\n",
    "ords_prods_merge.loc[ords_prods_merge['avg_price'] >= 10, 'spending_flag'] = 'High spender'"
   ]
  },
  {
   "cell_type": "code",
   "execution_count": null,
   "id": "e0cd78ac",
   "metadata": {},
   "outputs": [],
   "source": [
    "# count distinct user ids by spending flag (I think this is right?)\n",
    "ords_prods_merge.groupby(['spending_flag', 'loyalty_flag']).agg({'user_id': ['nunique']})"
   ]
  },
  {
   "cell_type": "code",
   "execution_count": null,
   "id": "034765fd",
   "metadata": {},
   "outputs": [],
   "source": [
    "low_spend = 202822/(202822+3387)"
   ]
  },
  {
   "cell_type": "code",
   "execution_count": null,
   "id": "760382de",
   "metadata": {},
   "outputs": [],
   "source": [
    "low_spend"
   ]
  },
  {
   "cell_type": "markdown",
   "id": "93778499",
   "metadata": {},
   "source": [
    "Observations: Almost all (98.36%) customers are low spenders. Among the high spenders, most are new customers (79.6%) or regular customers (18.36%)."
   ]
  },
  {
   "cell_type": "markdown",
   "id": "03500f85",
   "metadata": {},
   "source": [
    "# 07. Create order frequency flag"
   ]
  },
  {
   "cell_type": "code",
   "execution_count": 13,
   "id": "9c5babf4",
   "metadata": {},
   "outputs": [],
   "source": [
    "# transform: create new column order_frequency, fill('transform') it with median days since last order for each user id\n",
    "ords_prods_merge['order_frequency'] = ords_prods_merge.groupby(['user_id'])['days_since_prior_order'].transform(np.median)"
   ]
  },
  {
   "cell_type": "code",
   "execution_count": null,
   "id": "287a5eb6",
   "metadata": {},
   "outputs": [],
   "source": [
    "# check output\n",
    "ords_prods_merge.head()"
   ]
  },
  {
   "cell_type": "code",
   "execution_count": 14,
   "id": "5dc0d121",
   "metadata": {},
   "outputs": [],
   "source": [
    "# loc: create frequency flag column with three labels, each in separate cell\n",
    "# label 1: non-frequent customer\n",
    "ords_prods_merge.loc[ords_prods_merge['order_frequency'] > 20, 'frequency_flag'] = 'Non-frequent customer'"
   ]
  },
  {
   "cell_type": "code",
   "execution_count": 15,
   "id": "28cfcf1e",
   "metadata": {},
   "outputs": [],
   "source": [
    "# label 2: regular customer\n",
    "ords_prods_merge.loc[(ords_prods_merge['order_frequency'] > 10) & (ords_prods_merge['order_frequency'] <= 20), 'frequency_flag'] = 'Regular customer'"
   ]
  },
  {
   "cell_type": "code",
   "execution_count": 16,
   "id": "f437ee39",
   "metadata": {},
   "outputs": [],
   "source": [
    "# label 3: frequent customer\n",
    "ords_prods_merge.loc[ords_prods_merge['order_frequency'] <= 10, 'frequency_flag'] = 'Frequent customer'"
   ]
  },
  {
   "cell_type": "code",
   "execution_count": null,
   "id": "fb366f07",
   "metadata": {},
   "outputs": [],
   "source": [
    "# count distinct user ids by order frequency flag and loyalty flag\n",
    "ords_prods_merge.groupby(['loyalty_flag', 'frequency_flag']).agg({'user_id': ['nunique']})"
   ]
  },
  {
   "cell_type": "code",
   "execution_count": 17,
   "id": "1b5cef1e",
   "metadata": {},
   "outputs": [
    {
     "data": {
      "text/html": [
       "<div>\n",
       "<style scoped>\n",
       "    .dataframe tbody tr th:only-of-type {\n",
       "        vertical-align: middle;\n",
       "    }\n",
       "\n",
       "    .dataframe tbody tr th {\n",
       "        vertical-align: top;\n",
       "    }\n",
       "\n",
       "    .dataframe thead tr th {\n",
       "        text-align: left;\n",
       "    }\n",
       "\n",
       "    .dataframe thead tr:last-of-type th {\n",
       "        text-align: right;\n",
       "    }\n",
       "</style>\n",
       "<table border=\"1\" class=\"dataframe\">\n",
       "  <thead>\n",
       "    <tr>\n",
       "      <th></th>\n",
       "      <th>user_id</th>\n",
       "    </tr>\n",
       "    <tr>\n",
       "      <th></th>\n",
       "      <th>nunique</th>\n",
       "    </tr>\n",
       "    <tr>\n",
       "      <th>frequency_flag</th>\n",
       "      <th></th>\n",
       "    </tr>\n",
       "  </thead>\n",
       "  <tbody>\n",
       "    <tr>\n",
       "      <th>Frequent customer</th>\n",
       "      <td>86596</td>\n",
       "    </tr>\n",
       "    <tr>\n",
       "      <th>Non-frequent customer</th>\n",
       "      <td>59619</td>\n",
       "    </tr>\n",
       "    <tr>\n",
       "      <th>Regular customer</th>\n",
       "      <td>59993</td>\n",
       "    </tr>\n",
       "  </tbody>\n",
       "</table>\n",
       "</div>"
      ],
      "text/plain": [
       "                      user_id\n",
       "                      nunique\n",
       "frequency_flag               \n",
       "Frequent customer       86596\n",
       "Non-frequent customer   59619\n",
       "Regular customer        59993"
      ]
     },
     "execution_count": 17,
     "metadata": {},
     "output_type": "execute_result"
    }
   ],
   "source": [
    "# count distinct customers by frequency flag\n",
    "ords_prods_merge.groupby(['frequency_flag']).agg({'user_id': ['nunique']})"
   ]
  },
  {
   "cell_type": "code",
   "execution_count": null,
   "id": "768cb81d",
   "metadata": {},
   "outputs": [],
   "source": [
    "# run frequency check for frequency flag -- which group has ordered the most items?\n",
    "ords_prods_merge['frequency_flag'].value_counts()"
   ]
  },
  {
   "cell_type": "markdown",
   "id": "314978c0",
   "metadata": {},
   "source": [
    "Observations: Frequent customers make up the highest share of customers and account for the highest share of items ordered. \n",
    "Looking at the groups on a more granular level (divided both by loyalty and frequency), the largest single group of customers is new, non-frequent customers. Loyal and regular customers tend to order frequently.\n",
    "Note: The customer sum was off by a few thousand depending on how I parsed this. Maybe because of missing data (first orders)?"
   ]
  },
  {
   "cell_type": "markdown",
   "id": "f5e4bfcd",
   "metadata": {},
   "source": [
    "# 08. Export data"
   ]
  },
  {
   "cell_type": "code",
   "execution_count": null,
   "id": "3734a60a",
   "metadata": {},
   "outputs": [],
   "source": [
    "ords_prods_merge.to_pickle(os.path.join(path, '02 Data','Prepared Data', 'orders_products_merged_grouped.pkl'))"
   ]
  }
 ],
 "metadata": {
  "kernelspec": {
   "display_name": "Python 3 (ipykernel)",
   "language": "python",
   "name": "python3"
  },
  "language_info": {
   "codemirror_mode": {
    "name": "ipython",
    "version": 3
   },
   "file_extension": ".py",
   "mimetype": "text/x-python",
   "name": "python",
   "nbconvert_exporter": "python",
   "pygments_lexer": "ipython3",
   "version": "3.10.9"
  }
 },
 "nbformat": 4,
 "nbformat_minor": 5
}
