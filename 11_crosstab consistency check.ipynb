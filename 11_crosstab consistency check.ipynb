{
 "cells": [
  {
   "cell_type": "markdown",
   "id": "9a485285",
   "metadata": {},
   "source": [
    "# Contents List\n",
    "\n",
    "01. Import libraries and data\n",
    "02. Create crosstab \n",
    "03. Copy crosstab to Excel"
   ]
  },
  {
   "cell_type": "markdown",
   "id": "d369e536",
   "metadata": {},
   "source": [
    "# 01. Import libraries and data"
   ]
  },
  {
   "cell_type": "code",
   "execution_count": 2,
   "id": "e5b2241e",
   "metadata": {},
   "outputs": [],
   "source": [
    "# import libraries\n",
    "import pandas as pd\n",
    "import numpy as np\n",
    "import os"
   ]
  },
  {
   "cell_type": "code",
   "execution_count": 3,
   "id": "c000f69d",
   "metadata": {},
   "outputs": [],
   "source": [
    "# create shortcut for data imports\n",
    "path = r'C:\\Users\\jacym\\Desktop\\Career Foundry projects\\04-2023 Instacart basket analysis'"
   ]
  },
  {
   "cell_type": "code",
   "execution_count": 4,
   "id": "d40eea32",
   "metadata": {},
   "outputs": [],
   "source": [
    "# import merged data\n",
    "ords_prods_merge = pd.read_pickle(os.path.join(path, '02 Data','Prepared data', 'orders_products_merged_expanded.pkl'))"
   ]
  },
  {
   "cell_type": "markdown",
   "id": "7b360312",
   "metadata": {},
   "source": [
    "# 02. Create crosstab"
   ]
  },
  {
   "cell_type": "code",
   "execution_count": 5,
   "id": "b4e57632",
   "metadata": {},
   "outputs": [],
   "source": [
    "# create crosstab for days since prior order and order number to see where missing data is concentrated\n",
    "crosstab = pd.crosstab(ords_prods_merge['days_since_prior_order'], ords_prods_merge['order_number'], dropna = False)"
   ]
  },
  {
   "cell_type": "markdown",
   "id": "e3597a90",
   "metadata": {},
   "source": [
    "# 03. Copy crosstab to Excel"
   ]
  },
  {
   "cell_type": "code",
   "execution_count": 7,
   "id": "f73fa5f7",
   "metadata": {},
   "outputs": [],
   "source": [
    "# copy crosstab to view in excel -- 0s runing down the order 1 column indicates missing values are for first orders\n",
    "crosstab.to_clipboard()"
   ]
  }
 ],
 "metadata": {
  "kernelspec": {
   "display_name": "Python 3 (ipykernel)",
   "language": "python",
   "name": "python3"
  },
  "language_info": {
   "codemirror_mode": {
    "name": "ipython",
    "version": 3
   },
   "file_extension": ".py",
   "mimetype": "text/x-python",
   "name": "python",
   "nbconvert_exporter": "python",
   "pygments_lexer": "ipython3",
   "version": "3.10.9"
  }
 },
 "nbformat": 4,
 "nbformat_minor": 5
}
