{
 "cells": [
  {
   "cell_type": "markdown",
   "id": "ec4b6c1e",
   "metadata": {},
   "source": [
    "# Contents List\n",
    "\n",
    "01. Import libraries and data\n",
    "02. View dataframe types and memory usage\n",
    "03. Drop unneeded columns\n",
    "04. View memory usage again\n",
    "05. Export downscaled data"
   ]
  },
  {
   "cell_type": "code",
   "execution_count": 1,
   "id": "64a8e16c",
   "metadata": {},
   "outputs": [],
   "source": [
    "# import libraries\n",
    "import pandas as pd\n",
    "import numpy as np\n",
    "import os"
   ]
  },
  {
   "cell_type": "code",
   "execution_count": 2,
   "id": "88fc0b38",
   "metadata": {},
   "outputs": [],
   "source": [
    "# create shortcut for data imports\n",
    "path = r'C:\\Users\\jacym\\Desktop\\Career Foundry projects\\04-2023 Instacart basket analysis'"
   ]
  },
  {
   "cell_type": "code",
   "execution_count": 3,
   "id": "61e40897",
   "metadata": {},
   "outputs": [],
   "source": [
    "# import data\n",
    "df = pd.read_pickle(r'C:\\Users\\jacym\\Desktop\\Career Foundry projects\\04-2023 Instacart basket analysis\\02 Data\\Prepared data\\orders_customers_regions.pkl')"
   ]
  },
  {
   "cell_type": "code",
   "execution_count": 4,
   "id": "644399a0",
   "metadata": {},
   "outputs": [
    {
     "name": "stdout",
     "output_type": "stream",
     "text": [
      "<class 'pandas.core.frame.DataFrame'>\n",
      "Int64Index: 32404859 entries, 0 to 32404858\n",
      "Data columns (total 30 columns):\n",
      " #   Column                  Dtype  \n",
      "---  ------                  -----  \n",
      " 0   order_id                object \n",
      " 1   user_id                 object \n",
      " 2   order_number            int8   \n",
      " 3   order_day_of_week       int8   \n",
      " 4   order_hour_of_day       int8   \n",
      " 5   days_since_prior_order  float32\n",
      " 6   product_id              int32  \n",
      " 7   add_to_cart_order       int16  \n",
      " 8   reordered               int8   \n",
      " 9   product_name            object \n",
      " 10  aisle_id                int16  \n",
      " 11  department_id           int8   \n",
      " 12  prices                  float32\n",
      " 13  price_range_loc         object \n",
      " 14  busiest_days            object \n",
      " 15  busiest_period_of_day   object \n",
      " 16  max_order               int8   \n",
      " 17  loyalty_flag            object \n",
      " 18  avg_price               float32\n",
      " 19  spending_flag           object \n",
      " 20  order_frequency         float32\n",
      " 21  frequency_flag          object \n",
      " 22  gender                  object \n",
      " 23  state                   object \n",
      " 24  age                     int64  \n",
      " 25  date_joined             object \n",
      " 26  n_dependants            int64  \n",
      " 27  fam_status              object \n",
      " 28  income                  int64  \n",
      " 29  region                  object \n",
      "dtypes: float32(4), int16(2), int32(1), int64(3), int8(6), object(14)\n",
      "memory usage: 30.7 GB\n"
     ]
    }
   ],
   "source": [
    "# view memory usage\n",
    "df.info(memory_usage = 'deep')"
   ]
  },
  {
   "cell_type": "code",
   "execution_count": 5,
   "id": "3dfca226",
   "metadata": {},
   "outputs": [],
   "source": [
    "# drop unneeded columns\n",
    "df = df.drop(columns = ['reordered', 'aisle_id', 'price_range_loc', 'busiest_days'])"
   ]
  },
  {
   "cell_type": "code",
   "execution_count": 6,
   "id": "3cf30145",
   "metadata": {},
   "outputs": [
    {
     "name": "stdout",
     "output_type": "stream",
     "text": [
      "<class 'pandas.core.frame.DataFrame'>\n",
      "Int64Index: 32404859 entries, 0 to 32404858\n",
      "Data columns (total 26 columns):\n",
      " #   Column                  Dtype  \n",
      "---  ------                  -----  \n",
      " 0   order_id                object \n",
      " 1   user_id                 object \n",
      " 2   order_number            int8   \n",
      " 3   order_day_of_week       int8   \n",
      " 4   order_hour_of_day       int8   \n",
      " 5   days_since_prior_order  float32\n",
      " 6   product_id              int32  \n",
      " 7   add_to_cart_order       int16  \n",
      " 8   product_name            object \n",
      " 9   department_id           int8   \n",
      " 10  prices                  float32\n",
      " 11  busiest_period_of_day   object \n",
      " 12  max_order               int8   \n",
      " 13  loyalty_flag            object \n",
      " 14  avg_price               float32\n",
      " 15  spending_flag           object \n",
      " 16  order_frequency         float32\n",
      " 17  frequency_flag          object \n",
      " 18  gender                  object \n",
      " 19  state                   object \n",
      " 20  age                     int64  \n",
      " 21  date_joined             object \n",
      " 22  n_dependants            int64  \n",
      " 23  fam_status              object \n",
      " 24  income                  int64  \n",
      " 25  region                  object \n",
      "dtypes: float32(4), int16(1), int32(1), int64(3), int8(5), object(12)\n",
      "memory usage: 26.3 GB\n"
     ]
    }
   ],
   "source": [
    "# view memory usage\n",
    "df.info(memory_usage = 'deep')"
   ]
  },
  {
   "cell_type": "code",
   "execution_count": 7,
   "id": "6fd656e2",
   "metadata": {},
   "outputs": [],
   "source": [
    "# export downscaled data\n",
    "df.to_pickle(os.path.join(path, '02 Data','Prepared Data', 'orders_customers_regions.pkl'))"
   ]
  }
 ],
 "metadata": {
  "kernelspec": {
   "display_name": "Python 3 (ipykernel)",
   "language": "python",
   "name": "python3"
  },
  "language_info": {
   "codemirror_mode": {
    "name": "ipython",
    "version": 3
   },
   "file_extension": ".py",
   "mimetype": "text/x-python",
   "name": "python",
   "nbconvert_exporter": "python",
   "pygments_lexer": "ipython3",
   "version": "3.10.9"
  }
 },
 "nbformat": 4,
 "nbformat_minor": 5
}
